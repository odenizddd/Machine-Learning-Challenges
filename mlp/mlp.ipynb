{
 "cells": [
  {
   "cell_type": "markdown",
   "metadata": {},
   "source": [
    "Multilayer perceptron implementation from stratch."
   ]
  },
  {
   "cell_type": "code",
   "execution_count": 148,
   "metadata": {},
   "outputs": [],
   "source": [
    "import numpy as np\n",
    "from tensorflow.keras.datasets import mnist"
   ]
  },
  {
   "cell_type": "code",
   "execution_count": 149,
   "metadata": {},
   "outputs": [],
   "source": [
    "(X_train, y_train), (X_test, y_test) = mnist.load_data()\n",
    "\n",
    "X_train = X_train.reshape(-1, 28*28) / 255.0\n",
    "X_test = X_test.reshape(-1, 28*28) / 255.0\n",
    "\n",
    "y_train = np.eye(10)[y_train]\n",
    "y_test = np.eye(10)[y_test]"
   ]
  },
  {
   "cell_type": "code",
   "execution_count": 150,
   "metadata": {},
   "outputs": [],
   "source": [
    "layer_sizes = (28*28, 64, 32, 10)\n",
    "\n",
    "network = dict()\n",
    "\n",
    "# Initialize the weights and biases.\n",
    "# If this doesn't work, try using He initialization.\n",
    "for i in range(1, len(layer_sizes)):\n",
    "    # He initialization for weights\n",
    "    network[f'W{i}'] = np.random.randn(layer_sizes[i], layer_sizes[i-1]) * np.sqrt(2 / layer_sizes[i-1])\n",
    "    # Biases initialized to zero (common practice)\n",
    "    network[f'B{i}'] = np.zeros(layer_sizes[i])"
   ]
  },
  {
   "cell_type": "code",
   "execution_count": 151,
   "metadata": {},
   "outputs": [],
   "source": [
    "# Functions.\n",
    "\n",
    "def forward_pass(X, network):\n",
    "    network['A0'] = X\n",
    "    network['Z1'] = network['A0'] @ network['W1'].T + network['B1']\n",
    "    network['A1'] = np.where(network['Z1'] > 0, network['Z1'], 0)\n",
    "    network['Z2'] = network['A1'] @ network['W2'].T + network['B2']\n",
    "    network['A2'] = np.where(network['Z2'] > 0, network['Z2'], 0)\n",
    "    network['Z3'] = network['A2'] @ network['W3'].T + network['B3']\n",
    "    network['A3'] = np.exp(network['Z3']) / np.sum(np.exp(network['Z3']), axis=1, keepdims=True)\n",
    "\n",
    "def back_propagation(network, y):\n",
    "    gradients = dict()\n",
    "\n",
    "    m = y.shape[0]\n",
    "\n",
    "    gradients['Z3'] = network['A3'] - y\n",
    "    gradients['W3'] = gradients['Z3'].T @ network['A2'] / m\n",
    "    gradients['B3'] = np.sum(gradients['Z3'], axis=0) / m\n",
    "    gradients['A2'] = gradients['Z3'] @ network['W3']\n",
    "    gradients['Z2'] = np.where(network['Z2'] > 0, gradients['A2'], 0)\n",
    "    gradients['W2'] = gradients['Z2'].T @ network['A1'] / m\n",
    "    gradients['B2'] = np.sum(gradients['Z2'], axis=0) / m\n",
    "    gradients['A1'] = gradients['Z2'] @ network['W2']\n",
    "    gradients['Z1'] = np.where(network['Z1'] > 0, gradients['A1'], 0)\n",
    "    gradients['W1'] = gradients['Z1'].T @ network['A0'] / m\n",
    "    gradients['B1'] = np.sum(gradients['Z1'], axis=0) / m\n",
    "\n",
    "    return gradients\n",
    "\n",
    "def update_network(network, gradients, lr):\n",
    "    for i in range(1, len(layer_sizes)):\n",
    "        network[f\"W{i}\"] -= lr * gradients[f\"W{i}\"]\n",
    "        network[f\"B{i}\"] -= lr * gradients[f\"B{i}\"]\n",
    "\n",
    "# Training loop.\n",
    "\n",
    "def train_network(X_train, y_train, network, lr, epochs):\n",
    "    for epoch in range(epochs):\n",
    "        forward_pass(X_train, network)\n",
    "        gradients = back_propagation(network, y_train)\n",
    "        update_network(network, gradients, lr)\n",
    "\n",
    "def test_network(X_test, y_test, network):\n",
    "    forward_pass(X_test, network)\n",
    "    predictions = np.argmax(network['A3'], axis=1)\n",
    "    accuracy = np.mean(predictions == np.argmax(y_test, axis=1))\n",
    "    return accuracy"
   ]
  },
  {
   "cell_type": "code",
   "execution_count": 154,
   "metadata": {},
   "outputs": [],
   "source": [
    "train_network(X_train, y_train, network, 0.1, 50)\n"
   ]
  },
  {
   "cell_type": "code",
   "execution_count": null,
   "metadata": {},
   "outputs": [],
   "source": [
    "accuracy = test_network(X_test, y_test, network)\n",
    "print(f\"Accuracy: {accuracy}\")"
   ]
  },
  {
   "cell_type": "code",
   "execution_count": null,
   "metadata": {},
   "outputs": [],
   "source": [
    "# Demonstrate the network's predictions.\n",
    "\n",
    "import matplotlib.pyplot as plt\n",
    "\n",
    "for i in range(10):\n",
    "    forward_pass(X_test[i:i+1], network)\n",
    "    prediction = np.argmax(network['A3'])\n",
    "    plt.imshow(X_test[i].reshape(28, 28))\n",
    "    plt.title(f\"Prediction: {prediction} Actual: {np.argmax(y_test[i])}\")\n",
    "    plt.show()"
   ]
  }
 ],
 "metadata": {
  "kernelspec": {
   "display_name": "myenv-3.12",
   "language": "python",
   "name": "python3"
  },
  "language_info": {
   "codemirror_mode": {
    "name": "ipython",
    "version": 3
   },
   "file_extension": ".py",
   "mimetype": "text/x-python",
   "name": "python",
   "nbconvert_exporter": "python",
   "pygments_lexer": "ipython3",
   "version": "3.12.7"
  }
 },
 "nbformat": 4,
 "nbformat_minor": 2
}
