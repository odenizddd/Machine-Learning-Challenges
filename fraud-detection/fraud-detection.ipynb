{
 "cells": [
  {
   "cell_type": "markdown",
   "metadata": {},
   "source": [
    "Get dataset from https://www.kaggle.com/datasets/mlg-ulb/creditcardfraud"
   ]
  },
  {
   "cell_type": "code",
   "execution_count": null,
   "metadata": {},
   "outputs": [],
   "source": [
    "import pandas as pd\n",
    "from IPython.display import display\n",
    "\n",
    "data = pd.read_csv('creditcard.csv')\n",
    "\n",
    "display(data.head())\n",
    "\n",
    "value_counts = data.value_counts('Class')\n",
    "print(\"There are {} frauds and {} non-frauds in this dataset.\".format(value_counts[1], value_counts[0]))\n"
   ]
  },
  {
   "cell_type": "code",
   "execution_count": 62,
   "metadata": {},
   "outputs": [],
   "source": [
    "from sklearn.model_selection import train_test_split\n",
    "\n",
    "# Drop the 'Time' column\n",
    "\n",
    "data = data.drop('Time', axis=1)\n",
    "X = data.drop('Class', axis=1)\n",
    "y = data['Class']\n"
   ]
  },
  {
   "cell_type": "code",
   "execution_count": null,
   "metadata": {},
   "outputs": [],
   "source": [
    "\n",
    "# Split the data into training and testing sets\n",
    "\n",
    "X_train, X_test, y_train, y_test = train_test_split(X, y, test_size=0.2, random_state=42)\n",
    "\n",
    "print(\"There are {} training samples and {} test samples.\".format(X_train.shape[0], X_test.shape[0]))\n",
    "print(y_train.value_counts('Class'))\n",
    "print(y_test.value_counts('Class'))"
   ]
  },
  {
   "cell_type": "code",
   "execution_count": null,
   "metadata": {},
   "outputs": [],
   "source": [
    "from sklearn.tree import DecisionTreeClassifier\n",
    "\n",
    "# Create a decision tree classifier and fit it to the training data\n",
    "\n",
    "clf = DecisionTreeClassifier(random_state=42)\n",
    "\n",
    "clf.fit(X_train, y_train)"
   ]
  },
  {
   "cell_type": "code",
   "execution_count": null,
   "metadata": {},
   "outputs": [],
   "source": [
    "X_y = pd.concat([X_train, y_train], axis=1)\n",
    "\n",
    "fraud_count = X_train[y_train == 1].shape[0]\n",
    "\n",
    "non_fraud_sample = X_y[y_train == 0].sample(frac=1, random_state=42)[:fraud_count]\n",
    "X_y_balanced = pd.concat([X_y[y_train == 1], non_fraud_sample])\n",
    "\n",
    "X_y_balanced = X_y_balanced.sample(frac=1, random_state=42)\n",
    "\n",
    "X_train_balanced = X_y_balanced.drop('Class', axis=1)\n",
    "y_train_balanced = X_y_balanced['Class']"
   ]
  },
  {
   "cell_type": "code",
   "execution_count": null,
   "metadata": {},
   "outputs": [],
   "source": [
    "from sklearn.tree import DecisionTreeClassifier\n",
    "\n",
    "# Create a decision tree classifier and fit it to the balanced training data\n",
    "\n",
    "clf = DecisionTreeClassifier(random_state=42)\n",
    "\n",
    "clf.fit(X_train_balanced, y_train_balanced)\n",
    "\n",
    "from sklearn.metrics import classification_report\n",
    "\n",
    "# Predict the labels of the test set\n",
    "\n",
    "y_pred = clf.predict(X_test)\n",
    "\n",
    "# Print the classification report\n",
    "\n",
    "print(classification_report(y_test, y_pred))"
   ]
  },
  {
   "cell_type": "code",
   "execution_count": null,
   "metadata": {},
   "outputs": [],
   "source": [
    "# Evaluate the classifier on the test data\n",
    "\n",
    "y_pred = clf.predict(X_test)\n",
    "\n",
    "from sklearn.metrics import classification_report\n",
    "\n",
    "print(classification_report(y_test, y_pred))"
   ]
  }
 ],
 "metadata": {
  "kernelspec": {
   "display_name": "myenv",
   "language": "python",
   "name": "python3"
  },
  "language_info": {
   "codemirror_mode": {
    "name": "ipython",
    "version": 3
   },
   "file_extension": ".py",
   "mimetype": "text/x-python",
   "name": "python",
   "nbconvert_exporter": "python",
   "pygments_lexer": "ipython3",
   "version": "3.13.0"
  }
 },
 "nbformat": 4,
 "nbformat_minor": 2
}
