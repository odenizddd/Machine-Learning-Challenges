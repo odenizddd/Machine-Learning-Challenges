{
 "cells": [
  {
   "cell_type": "markdown",
   "metadata": {},
   "source": [
    "Get data at https://www.kaggle.com/datasets/yasserh/housing-prices-dataset"
   ]
  },
  {
   "cell_type": "code",
   "execution_count": null,
   "metadata": {},
   "outputs": [],
   "source": [
    "import pandas as pd\n",
    "\n",
    "data = pd.read_csv('Housing.csv')\n",
    "\n",
    "print(data.shape)\n",
    "print(data.head())"
   ]
  },
  {
   "cell_type": "code",
   "execution_count": null,
   "metadata": {},
   "outputs": [],
   "source": [
    "print(data.isnull().sum())\n",
    "data = data.dropna()\n"
   ]
  },
  {
   "cell_type": "code",
   "execution_count": null,
   "metadata": {},
   "outputs": [],
   "source": [
    "from sklearn.preprocessing import StandardScaler\n",
    "\n",
    "X = data.iloc[:, 1:]\n",
    "y = data['price']\n",
    "\n",
    "# Should I drop the first column or not?\n",
    "X = pd.get_dummies(X, drop_first=True)\n",
    "\n",
    "original_columns = X.columns\n",
    "print(original_columns)\n",
    "\n",
    "area_scaler = StandardScaler()\n",
    "X['area'] = area_scaler.fit_transform(X[['area']])\n",
    "\n",
    "price_scaler = StandardScaler()\n",
    "y = price_scaler.fit_transform(y.values.reshape(-1, 1))\n",
    "\n",
    "print(X.head())\n",
    "print(y[:5])"
   ]
  },
  {
   "cell_type": "code",
   "execution_count": null,
   "metadata": {},
   "outputs": [],
   "source": [
    "from sklearn.model_selection import train_test_split\n",
    "\n",
    "X_train, X_test, y_train, y_test = train_test_split(X, y, test_size=0.2, random_state=42)\n",
    "\n",
    "print(X_train.shape)\n",
    "print(X_test.shape)"
   ]
  },
  {
   "cell_type": "code",
   "execution_count": null,
   "metadata": {},
   "outputs": [],
   "source": [
    "from sklearn.linear_model import LinearRegression\n",
    "\n",
    "model = LinearRegression()\n",
    "\n",
    "model.fit(X_train, y_train)\n",
    "\n",
    "print(model.coef_)\n",
    "print(model.intercept_)"
   ]
  },
  {
   "cell_type": "code",
   "execution_count": null,
   "metadata": {},
   "outputs": [],
   "source": [
    "from sklearn.metrics import mean_squared_error, r2_score\n",
    "\n",
    "y_pred = model.predict(X_test)\n",
    "\n",
    "mse = mean_squared_error(y_test, y_pred)\n",
    "r2 = r2_score(y_test, y_pred)\n",
    "\n",
    "print(\"Mean Squared Error: \", mse)\n",
    "print(\"R2 Score: \", r2)"
   ]
  },
  {
   "cell_type": "code",
   "execution_count": null,
   "metadata": {},
   "outputs": [],
   "source": [
    "import matplotlib.pyplot as plt\n",
    "\n",
    "plt.scatter(X_train['area'], price_scaler.inverse_transform(y_train), color='blue', label=\"Actual\")\n",
    "plt.scatter(X_test['area'], price_scaler.inverse_transform(y_test), color='red', label=\"Predicted\")\n",
    "plt.xlabel(\"Area\")\n",
    "plt.ylabel(\"Price\")\n",
    "plt.legend()\n",
    "plt.show()\n",
    "\n"
   ]
  },
  {
   "cell_type": "code",
   "execution_count": null,
   "metadata": {},
   "outputs": [],
   "source": [
    "# How to give a new input to the model\n",
    "\n",
    "def predict(features):\n",
    "    features = pd.DataFrame(features, index=[0])\n",
    "    features = pd.get_dummies(features)\n",
    "    features = features.reindex(columns=original_columns, fill_value=False)\n",
    "    features['area'] = area_scaler.transform(features[['area']])\n",
    "    return price_scaler.inverse_transform(model.predict(features))[0][0]\n",
    "\n",
    "prediction = predict({'area': 4400, 'bedrooms': 4, 'bathrooms': 3, 'stories': 2, 'mainroad': 'no', 'guestroom': 'yes', 'basement': 'no', 'hotwaterheating': 'yes', 'airconditioning': 'yes', 'parking': 2, 'prefarea': 'yes', 'furnishingstatus': 'unfurnished'})\n",
    "print(f\"Prediction: {prediction}\")"
   ]
  },
  {
   "cell_type": "code",
   "execution_count": null,
   "metadata": {},
   "outputs": [],
   "source": [
    "# A little demonstration of reindex.\n",
    "\n",
    "df = pd.DataFrame({\"length\": [5, 10, 15, 20, 25, 30], \"width\": [5, 10, 15, 20, 25, 30]})\n",
    "\n",
    "df = df.reindex(columns=['width', 'length', 'height'], fill_value=0)\n",
    "\n",
    "print(df)"
   ]
  }
 ],
 "metadata": {
  "kernelspec": {
   "display_name": "myenv",
   "language": "python",
   "name": "python3"
  },
  "language_info": {
   "codemirror_mode": {
    "name": "ipython",
    "version": 3
   },
   "file_extension": ".py",
   "mimetype": "text/x-python",
   "name": "python",
   "nbconvert_exporter": "python",
   "pygments_lexer": "ipython3",
   "version": "3.13.0"
  }
 },
 "nbformat": 4,
 "nbformat_minor": 2
}
